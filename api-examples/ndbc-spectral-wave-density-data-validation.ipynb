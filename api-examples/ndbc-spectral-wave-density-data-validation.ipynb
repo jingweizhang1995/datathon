{
 "cells": [
  {
   "cell_type": "markdown",
   "metadata": {},
   "source": [
    "# NDBC Station 41047 Spectral Wave Density Data\n",
    "\n",
    "This notebook explores the differences between spectral wave density data products for [NDBC Station 41047](http://www.ndbc.noaa.gov/station_page.php?station=41047). It investigates three unique OPeNDAP sources for the data: [Planet OS](http://data.planetos.com/datasets/noaa_ndbc_swden_stations), [NDBC realtime](http://dods.ndbc.noaa.gov/thredds/dodsC/data/swden/41047/41047w9999.nc.html), and [NDBC 2014 historical](http://dods.ndbc.noaa.gov/thredds/dodsC/data/swden/41047/41047w2014.nc.html) products.\n",
    "\n",
    "Planet OS currently acquires spectral wave density data from each individual station's realtime product, which is denoted by the `w9999` nomenclature immediately before the file extension. We would expect the Planet OS product and the NDBC realtime product to be identical.\n",
    "\n",
    "Let's begin with the required imports..."
   ]
  },
  {
   "cell_type": "code",
   "execution_count": 1,
   "metadata": {
    "collapsed": true
   },
   "outputs": [],
   "source": [
    "%matplotlib inline\n",
    "import matplotlib as mpl\n",
    "import matplotlib.pyplot as plt\n",
    "import numpy as np\n",
    "import pandas as pd\n",
    "import xarray as xr\n",
    "from package_api import download_data_station\n",
    "import datetime"
   ]
  },
  {
   "cell_type": "markdown",
   "metadata": {},
   "source": [
    "Next we'll setup our data sources and acquire the data via OPeNDAP using `xarray`."
   ]
  },
  {
   "cell_type": "code",
   "execution_count": 2,
   "metadata": {
    "collapsed": true
   },
   "outputs": [],
   "source": [
    "API_key = open('APIKEY').readlines()[0].strip() #'<YOUR API KEY HERE>'\n",
    "dataset_key = 'noaa_ndbc_swden_stations'\n",
    "variables = 'spectral_wave_density,mean_wave_dir,principal_wave_dir,wave_spectrum_r1,wave_spectrum_r2'"
   ]
  },
  {
   "cell_type": "code",
   "execution_count": 29,
   "metadata": {},
   "outputs": [
    {
     "name": "stdout",
     "output_type": "stream",
     "text": [
      "/Users/etoodu/Desktop/planetOS/git/notebooks/api-examples\n",
      "https://api.planetos.com/v1/packages?dataset=noaa_ndbc_swden_stations&apikey=8428878e4b944abeb84790e832c633fc&station=41047&grouping=location&reftime_recent=true&time_start=2018-01-01T00:00:00&time_end=2019-04-03T16:52:35&package=noaa_ndbc_swden_stations_20180101T000000to20190403T165235_41047&var=spectral_wave_density,mean_wave_dir,principal_wave_dir,wave_spectrum_r1,wave_spectrum_r2\n",
      "https://api.planetos.com/v1/packages/noaa_ndbc_swden_stations_20180101T000000to20190403T165235_41047?apikey=8428878e4b944abeb84790e832c633fc\n",
      "https://api.planetos.com/v1/packages/noaa_ndbc_swden_stations_20180101T000000to20190403T165235_41047/data?apikey=8428878e4b944abeb84790e832c633fc\n",
      "Please wait while package is downloaded\n",
      "Package download was unsuccessful, please wait a few seconds...\n"
     ]
    },
    {
     "ename": "FileNotFoundError",
     "evalue": "[Errno 2] No such file or directory: b'/Users/etoodu/Desktop/planetOS/git/notebooks/api-examples/noaa_ndbc_swden_stations_20180101T000000to20190403T165235_41047'",
     "output_type": "error",
     "traceback": [
      "\u001b[0;31m---------------------------------------------------------------------------\u001b[0m",
      "\u001b[0;31mFileNotFoundError\u001b[0m                         Traceback (most recent call last)",
      "\u001b[0;32m<ipython-input-29-3af60fa45278>\u001b[0m in \u001b[0;36m<module>\u001b[0;34m()\u001b[0m\n\u001b[1;32m     10\u001b[0m \u001b[0mds_ndbc_rt\u001b[0m \u001b[0;34m=\u001b[0m \u001b[0mxr\u001b[0m\u001b[0;34m.\u001b[0m\u001b[0mopen_dataset\u001b[0m\u001b[0;34m(\u001b[0m\u001b[0mndbc_rt_url\u001b[0m\u001b[0;34m)\u001b[0m\u001b[0;34m\u001b[0m\u001b[0;34m\u001b[0m\u001b[0m\n\u001b[1;32m     11\u001b[0m \u001b[0mds_ndbc\u001b[0m \u001b[0;34m=\u001b[0m \u001b[0mxr\u001b[0m\u001b[0;34m.\u001b[0m\u001b[0mopen_dataset\u001b[0m\u001b[0;34m(\u001b[0m\u001b[0mndbc_url\u001b[0m\u001b[0;34m)\u001b[0m\u001b[0;34m\u001b[0m\u001b[0;34m\u001b[0m\u001b[0m\n\u001b[0;32m---> 12\u001b[0;31m \u001b[0mds_planetos\u001b[0m \u001b[0;34m=\u001b[0m \u001b[0mxr\u001b[0m\u001b[0;34m.\u001b[0m\u001b[0mopen_dataset\u001b[0m\u001b[0;34m(\u001b[0m\u001b[0mplanetos_filename\u001b[0m\u001b[0;34m)\u001b[0m\u001b[0;34m\u001b[0m\u001b[0;34m\u001b[0m\u001b[0m\n\u001b[0m",
      "\u001b[0;32m/Users/etoodu/anaconda/envs/py36/lib/python3.6/site-packages/xarray/backends/api.py\u001b[0m in \u001b[0;36mopen_dataset\u001b[0;34m(filename_or_obj, group, decode_cf, mask_and_scale, decode_times, autoclose, concat_characters, decode_coords, engine, chunks, lock, cache, drop_variables, backend_kwargs)\u001b[0m\n\u001b[1;32m    318\u001b[0m                                                    \u001b[0mgroup\u001b[0m\u001b[0;34m=\u001b[0m\u001b[0mgroup\u001b[0m\u001b[0;34m,\u001b[0m\u001b[0;34m\u001b[0m\u001b[0;34m\u001b[0m\u001b[0m\n\u001b[1;32m    319\u001b[0m                                                    \u001b[0mautoclose\u001b[0m\u001b[0;34m=\u001b[0m\u001b[0mautoclose\u001b[0m\u001b[0;34m,\u001b[0m\u001b[0;34m\u001b[0m\u001b[0;34m\u001b[0m\u001b[0m\n\u001b[0;32m--> 320\u001b[0;31m                                                    **backend_kwargs)\n\u001b[0m\u001b[1;32m    321\u001b[0m         \u001b[0;32melif\u001b[0m \u001b[0mengine\u001b[0m \u001b[0;34m==\u001b[0m \u001b[0;34m'scipy'\u001b[0m\u001b[0;34m:\u001b[0m\u001b[0;34m\u001b[0m\u001b[0;34m\u001b[0m\u001b[0m\n\u001b[1;32m    322\u001b[0m             store = backends.ScipyDataStore(filename_or_obj,\n",
      "\u001b[0;32m/Users/etoodu/anaconda/envs/py36/lib/python3.6/site-packages/xarray/backends/netCDF4_.py\u001b[0m in \u001b[0;36mopen\u001b[0;34m(cls, filename, mode, format, group, writer, clobber, diskless, persist, autoclose, lock)\u001b[0m\n\u001b[1;32m    330\u001b[0m                                    \u001b[0mdiskless\u001b[0m\u001b[0;34m=\u001b[0m\u001b[0mdiskless\u001b[0m\u001b[0;34m,\u001b[0m \u001b[0mpersist\u001b[0m\u001b[0;34m=\u001b[0m\u001b[0mpersist\u001b[0m\u001b[0;34m,\u001b[0m\u001b[0;34m\u001b[0m\u001b[0;34m\u001b[0m\u001b[0m\n\u001b[1;32m    331\u001b[0m                                    format=format)\n\u001b[0;32m--> 332\u001b[0;31m         \u001b[0mds\u001b[0m \u001b[0;34m=\u001b[0m \u001b[0mopener\u001b[0m\u001b[0;34m(\u001b[0m\u001b[0;34m)\u001b[0m\u001b[0;34m\u001b[0m\u001b[0;34m\u001b[0m\u001b[0m\n\u001b[0m\u001b[1;32m    333\u001b[0m         return cls(ds, mode=mode, writer=writer, opener=opener,\n\u001b[1;32m    334\u001b[0m                    autoclose=autoclose, lock=lock)\n",
      "\u001b[0;32m/Users/etoodu/anaconda/envs/py36/lib/python3.6/site-packages/xarray/backends/netCDF4_.py\u001b[0m in \u001b[0;36m_open_netcdf4_group\u001b[0;34m(filename, mode, group, **kwargs)\u001b[0m\n\u001b[1;32m    229\u001b[0m     \u001b[0;32mimport\u001b[0m \u001b[0mnetCDF4\u001b[0m \u001b[0;32mas\u001b[0m \u001b[0mnc4\u001b[0m\u001b[0;34m\u001b[0m\u001b[0;34m\u001b[0m\u001b[0m\n\u001b[1;32m    230\u001b[0m \u001b[0;34m\u001b[0m\u001b[0m\n\u001b[0;32m--> 231\u001b[0;31m     \u001b[0mds\u001b[0m \u001b[0;34m=\u001b[0m \u001b[0mnc4\u001b[0m\u001b[0;34m.\u001b[0m\u001b[0mDataset\u001b[0m\u001b[0;34m(\u001b[0m\u001b[0mfilename\u001b[0m\u001b[0;34m,\u001b[0m \u001b[0mmode\u001b[0m\u001b[0;34m=\u001b[0m\u001b[0mmode\u001b[0m\u001b[0;34m,\u001b[0m \u001b[0;34m**\u001b[0m\u001b[0mkwargs\u001b[0m\u001b[0;34m)\u001b[0m\u001b[0;34m\u001b[0m\u001b[0;34m\u001b[0m\u001b[0m\n\u001b[0m\u001b[1;32m    232\u001b[0m \u001b[0;34m\u001b[0m\u001b[0m\n\u001b[1;32m    233\u001b[0m     \u001b[0;32mwith\u001b[0m \u001b[0mclose_on_error\u001b[0m\u001b[0;34m(\u001b[0m\u001b[0mds\u001b[0m\u001b[0;34m)\u001b[0m\u001b[0;34m:\u001b[0m\u001b[0;34m\u001b[0m\u001b[0;34m\u001b[0m\u001b[0m\n",
      "\u001b[0;32mnetCDF4/_netCDF4.pyx\u001b[0m in \u001b[0;36mnetCDF4._netCDF4.Dataset.__init__\u001b[0;34m()\u001b[0m\n",
      "\u001b[0;32mnetCDF4/_netCDF4.pyx\u001b[0m in \u001b[0;36mnetCDF4._netCDF4._ensure_nc_success\u001b[0;34m()\u001b[0m\n",
      "\u001b[0;31mFileNotFoundError\u001b[0m: [Errno 2] No such file or directory: b'/Users/etoodu/Desktop/planetOS/git/notebooks/api-examples/noaa_ndbc_swden_stations_20180101T000000to20190403T165235_41047'"
     ]
    }
   ],
   "source": [
    "# OpenDAP URLs for each product\n",
    "now = datetime.datetime.now()\n",
    "ndbc_rt_url='http://dods.ndbc.noaa.gov/thredds/dodsC/data/swden/41047/41047w9999.nc'\n",
    "ndbc_url = 'http://dods.ndbc.noaa.gov/thredds/dodsC/data/swden/41047/41047w' + str(now.year) + '.nc'\n",
    "planetos_filename = download_data_station(dataset_key,API_key,'41047','2018-01-01T00:00:00',datetime.datetime.strftime(now,'%Y-%m-%dT%H:%M:%S')\n",
    ",variables,'41047')\n",
    "#planetos_tds_url = 'https://api.planetos.com/v1/datasets/noaa_ndbc_swden_stations/stations/41047?origin=dataset-details&station=46237&apikey=8428878e4b944abeb84790e832c633fc&_ga=2.215365009.721611707.1530692788-133742091.1504032768&netcdf=true'#'http://thredds.planetos.com/thredds/dodsC/dpipe//rel_0_8x03_dataset/transform/ns=/noaa_ndbc_swden_stations/scheme=/http/authority=/dods.ndbc.noaa.gov/path=/thredds/dodsC/data/swden/41047/41047w9999.nc/chunk=/1/1/data'\n",
    "\n",
    "# acquire OpenDAP datasets\n",
    "ds_ndbc_rt = xr.open_dataset(ndbc_rt_url)\n",
    "ds_ndbc = xr.open_dataset(ndbc_url)\n",
    "ds_planetos = xr.open_dataset(planetos_filename)"
   ]
  },
  {
   "cell_type": "code",
   "execution_count": null,
   "metadata": {},
   "outputs": [],
   "source": [
    "# Let's focus on a specific hour of interest...\n",
    "time = str((datetime.datetime.now() - datetime.timedelta(days=60)).strftime('%Y-%m-%d')) + ' 00:00:00' #'2014-08-09 00:00:00'\n",
    "\n",
    "# Select the specific hour for each dataset\n",
    "ds_ndbc_rt_hour = ds_ndbc_rt.sel(time=time).isel(latitude=0, longitude=0)\n",
    "ds_ndbc_hour = ds_ndbc.sel(time=time).isel(latitude=0, longitude=0)\n",
    "ds_planetos_hour = ds_planetos.sel(time=time).isel(latitude=0, longitude=0)"
   ]
  },
  {
   "cell_type": "markdown",
   "metadata": {},
   "source": [
    "## Product Inspection: Planet OS / NDBC Realtime / NDBC 2014 Historical\n",
    "For each of our three data products, we'll create an associated Dataframe for analysis."
   ]
  },
  {
   "cell_type": "code",
   "execution_count": null,
   "metadata": {
    "collapsed": true
   },
   "outputs": [],
   "source": [
    "# First, the Planet OS data which is acquired from the NDBC realtime station file.\n",
    "df_planetos = ds_planetos_hour.to_dataframe().drop(['context_time_latitude_longitude_frequency','mx_dataset','mx_creator_institution'], axis=1)\n",
    "df_planetos.head(8)"
   ]
  },
  {
   "cell_type": "code",
   "execution_count": null,
   "metadata": {
    "collapsed": true
   },
   "outputs": [],
   "source": [
    "# Second, the NDBC realtime station data.\n",
    "df_ndbc_rt = ds_ndbc_rt_hour.to_dataframe()\n",
    "df_ndbc_rt.head(8)"
   ]
  },
  {
   "cell_type": "code",
   "execution_count": null,
   "metadata": {
    "collapsed": true
   },
   "outputs": [],
   "source": [
    "# Finally, the 2014 archival data.\n",
    "df_ndbc = ds_ndbc_hour.to_dataframe()\n",
    "df_ndbc.head(8)"
   ]
  },
  {
   "cell_type": "markdown",
   "metadata": {},
   "source": [
    "Based on the sample outputs above, it appears that **the Planet OS data matches the NDBC realtime file that it is acquired from.** We will further verify this below by performing an equality test against the two Dataframes.\n",
    "\n",
    "We can also see that **the historical data is indeed different, with frequency bins that are neatly rounded and values for wave direction and wave spectrum even when spectral wave density is 0.**\n",
    "\n",
    "Using the `describe()` method we can explore the statistical characteristics of each in more detail below. Note that the `NaN` values present in the Planet OS and NDBC realtime datasets will raise warnings for percentile calculations."
   ]
  },
  {
   "cell_type": "code",
   "execution_count": null,
   "metadata": {
    "collapsed": true
   },
   "outputs": [],
   "source": [
    "df_planetos.describe()"
   ]
  },
  {
   "cell_type": "code",
   "execution_count": null,
   "metadata": {
    "collapsed": true
   },
   "outputs": [],
   "source": [
    "df_ndbc_rt.describe()"
   ]
  },
  {
   "cell_type": "code",
   "execution_count": null,
   "metadata": {
    "collapsed": true
   },
   "outputs": [],
   "source": [
    "df_ndbc.describe()"
   ]
  },
  {
   "cell_type": "markdown",
   "metadata": {},
   "source": [
    "## Confirm Planet OS Equality to NDBC Realtime\n",
    "\n",
    "To confirm that the Planet OS and NDBC realtime Dataframes are indeed equal, we'll perform a diff. Note that `NaN != NaN` evaluates as True, so `NaN` values will be raised as inconsistent across the dataframes. This could be resolved using `fillna()` and an arbitrary fill value such as `-9999.99`."
   ]
  },
  {
   "cell_type": "code",
   "execution_count": null,
   "metadata": {
    "collapsed": true
   },
   "outputs": [],
   "source": [
    "# function below requires identical index structure\n",
    "def df_diff(df1, df2):\n",
    "    ne_stacked = (df1 != df2).stack()\n",
    "    changed = ne_stacked[ne_stacked]\n",
    "    difference_locations = np.where(df1 != df2)\n",
    "    changed_from = df1.values[difference_locations]\n",
    "    changed_to = df2.values[difference_locations]\n",
    "    return pd.DataFrame({'df1': changed_from, 'df2': changed_to}, index=changed.index)\n",
    "\n",
    "# Compare the NDBC realtime to Planet OS data\n",
    "# Note that NaN != NaN evaluates as True, so NaN values will be raised as inconsistent across the dataframes\n",
    "# We could use fillna() to fix this issue, however this is not implemented here.\n",
    "df_diff(df_ndbc_rt, df_planetos)"
   ]
  },
  {
   "cell_type": "markdown",
   "metadata": {},
   "source": [
    "The `df_dff` results are as expected, only NaN values are different between the two datasets.\n",
    "\n",
    "## Spectral Wave Density Plot\n",
    "\n",
    "Let's plot the spectral wave density for all three datasets across the frequency coverage to see how they differ."
   ]
  },
  {
   "cell_type": "code",
   "execution_count": null,
   "metadata": {
    "collapsed": true
   },
   "outputs": [],
   "source": [
    "plt.figure(figsize=(20,10))\n",
    "ds_ndbc_rt_hour.spectral_wave_density.plot(label='NDBC Realtime')\n",
    "ds_ndbc_hour.spectral_wave_density.plot(label='NDBC ' + str(now.year))\n",
    "ds_planetos_hour.spectral_wave_density.plot(label='Planet OS')\n",
    "plt.legend()\n",
    "plt.show()"
   ]
  },
  {
   "cell_type": "markdown",
   "metadata": {},
   "source": [
    "There is a very slight discrepancy between the 2014 NDBC product and the Planet OS product, but no difference between the realtime NDBC product and Planet OS product.\n",
    "\n",
    "## Wave Spectrum Plots"
   ]
  },
  {
   "cell_type": "code",
   "execution_count": null,
   "metadata": {
    "collapsed": true
   },
   "outputs": [],
   "source": [
    "vars = ['wave_spectrum_r1','wave_spectrum_r2']\n",
    "df_planetos.loc[:,vars].plot(label=\"Planet OS\", figsize=(18,6))\n",
    "df_ndbc_rt.loc[:,vars].plot(label=\"NDBC Realtime\", figsize=(18,6))\n",
    "df_ndbc.loc[:,vars].plot(label=\"NDBC \" + str(now.year), figsize=(18,6))\n",
    "plt.show()"
   ]
  },
  {
   "cell_type": "markdown",
   "metadata": {},
   "source": [
    "## Wave Direction Plots"
   ]
  },
  {
   "cell_type": "code",
   "execution_count": null,
   "metadata": {
    "collapsed": true
   },
   "outputs": [],
   "source": [
    "vars = ['principal_wave_dir','mean_wave_dir']\n",
    "df_planetos.loc[:,vars].plot(label=\"Planet OS\", figsize=(18,6))\n",
    "df_ndbc_rt.loc[:,vars].plot(label=\"NDBC Realtime\", figsize=(18,6))\n",
    "df_ndbc.loc[:,vars].plot(label=\"NDBC \" + str(now.year), figsize=(18,6))\n",
    "plt.show()"
   ]
  },
  {
   "cell_type": "markdown",
   "metadata": {},
   "source": [
    "## Conclusion\n",
    "\n",
    "The Planet OS [NDBC spectral wave density data product](http://data.planetos.com/datasets/noaa_ndbc_swden_stations) matches the original NDBC realtime source.\n",
    "\n",
    "It appears that NDBC is performing addition QA/QC processing on the archival data, which differ slightly from the realtime data, however attempts to locate documentation on the historical data product processing have not been successful.\n",
    "\n",
    "Planet OS does not currently overwrite historical data with the NDBC archival products, however we may consider doing so if product quality is superior for end users."
   ]
  },
  {
   "cell_type": "code",
   "execution_count": null,
   "metadata": {
    "collapsed": true
   },
   "outputs": [],
   "source": []
  }
 ],
 "metadata": {
  "kernelspec": {
   "display_name": "Python 3",
   "language": "python",
   "name": "python3"
  },
  "language_info": {
   "codemirror_mode": {
    "name": "ipython",
    "version": 3
   },
   "file_extension": ".py",
   "mimetype": "text/x-python",
   "name": "python",
   "nbconvert_exporter": "python",
   "pygments_lexer": "ipython3",
   "version": "3.6.8"
  }
 },
 "nbformat": 4,
 "nbformat_minor": 1
}
