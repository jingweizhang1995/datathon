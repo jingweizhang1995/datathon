{
 "cells": [
  {
   "cell_type": "markdown",
   "metadata": {},
   "source": [
    "# Processing Large Datasets with the CSV Module\n",
    "\n",
    "This notebook illustrates how the `csv` module can be used to incrementally process a large subset of [OpenNEX DCP30 data](http://opennex.planetos.com/dcp30) in Python.\n",
    "\n",
    "In this example, we'll identify the minimum and maximum temperatures in the continental United States as predicted by the CESM1-CAM5 climate model under the RCP4.5 scenario. The data used in this example is available at http://opennex.planetos.com/dcp30/LpJMh.\n",
    "\n",
    "<hr>\n",
    "\n",
    "**Import Required Modules**\n",
    "\n",
    "Let's begin by importing the required modules. We'll need both `csv` and `urllib2` to request and load our data."
   ]
  },
  {
   "cell_type": "code",
   "execution_count": 17,
   "metadata": {
    "collapsed": true
   },
   "outputs": [],
   "source": [
    "import csv\n",
    "import urllib2"
   ]
  },
  {
   "cell_type": "markdown",
   "metadata": {},
   "source": [
    "**pr_min_max**\n",
    "\n",
    "The `pr_min_max` function iterates through a dataset containing the average high and lows (tasmax and tasmin variables) for each location and prints the location and month of the highest high and lowest low."
   ]
  },
  {
   "cell_type": "code",
   "execution_count": 18,
   "metadata": {
    "collapsed": true
   },
   "outputs": [],
   "source": [
    "def pr_min_max(ip_addr):\n",
    "    mintemp = {'Value': 1000.0}\n",
    "    maxtemp = {'Value': 0.0}\n",
    "\n",
    "    cr = csv.DictReader(urllib2.urlopen(\"http://%s:7645/data.csv\" % ip_addr))\n",
    "\n",
    "    for row in cr:\n",
    "        temp = float(row['Value'])\n",
    "        var = row['Variable']\n",
    "        if var == 'tasmax' and temp > float(maxtemp['Value']):\n",
    "            maxtemp = row\n",
    "        if var == 'tasmin' and temp < float(mintemp['Value']):\n",
    "            mintemp = row\n",
    "\n",
    "    print \"The minimum temperature is %.2f degrees C on %s at (%.3fW, %.3fN)\" % \\\n",
    "        (float(mintemp['Value'])-273.15, mintemp['Date'][:7], \\\n",
    "        -float(mintemp['Longitude']), float(mintemp['Latitude']))\n",
    "    print \"The maximum temperature is %.2f degrees C on %s at (%.3fW, %.3fN)\" % \\\n",
    "        (float(maxtemp['Value'])-273.15, maxtemp['Date'][:7], \\\n",
    "        -float(maxtemp['Longitude']), float(maxtemp['Latitude']))"
   ]
  },
  {
   "cell_type": "markdown",
   "metadata": {},
   "source": [
    "**Analyze the Data**\n",
    "\n",
    "Let's run the `pr_min_max` function on our dataset. Note that the IP address used below may differ from your data server deployment."
   ]
  },
  {
   "cell_type": "code",
   "execution_count": 20,
   "metadata": {
    "collapsed": false
   },
   "outputs": [
    {
     "name": "stdout",
     "output_type": "stream",
     "text": [
      "The minimum temperature is -26.80 degrees C on 2016-12 at (107.179W, 44.379N)\n",
      "The maximum temperature is 50.46 degrees C on 2016-07 at (116.896W, 36.529N)\n"
     ]
    }
   ],
   "source": [
    "# Note: replace with the IP address of your data server\n",
    "pr_min_max(\"192.168.99.100\")"
   ]
  },
  {
   "cell_type": "markdown",
   "metadata": {
    "collapsed": true
   },
   "source": [
    "<hr>\n",
    "\n",
    "**Results**\n",
    "\n",
    "For the year 2016, the CESM1-CAM5 climate model under the RCP4.5 scenario predicts that the lowest temperature in the continental US will be **-26.80 °C (-16.24 °F)**, occuring in December in Wyoming. The highest temperature is predicted to be **50.46 °C (122.83 °F)**, occuring in July in Death Valley, CA."
   ]
  },
  {
   "cell_type": "markdown",
   "metadata": {},
   "source": [
    "[![CESM1-CAM5 climate model predictions for min/max temps under the RCP4.5 scenario in the continental US](img/cesm1-cam5-rcp45-2016-us-temps.jpg)](img/cesm1-cam5-rcp45-2016-us-temps.jpg)"
   ]
  }
 ],
 "metadata": {
  "kernelspec": {
   "display_name": "Python 2",
   "language": "python",
   "name": "python2"
  },
  "language_info": {
   "codemirror_mode": {
    "name": "ipython",
    "version": 2
   },
   "file_extension": ".py",
   "mimetype": "text/x-python",
   "name": "python",
   "nbconvert_exporter": "python",
   "pygments_lexer": "ipython2",
   "version": "2.7.9"
  }
 },
 "nbformat": 4,
 "nbformat_minor": 0
}
